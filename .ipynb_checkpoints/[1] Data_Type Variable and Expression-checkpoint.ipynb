{
 "cells": [
  {
   "cell_type": "markdown",
   "id": "0f0e747a-6358-4a55-bb14-1175566a1b46",
   "metadata": {},
   "source": [
    "## 1. Getting Started\n",
    "* Verify your Python version\n",
    "* Begin by printing \"Hello World\".\n",
    "  \n",
    "Double-click **here** for detail.\n",
    "<!--:\n",
    "- Verify your Python version. It's displayed in the top-right corner of this notebook or can be checked by running specific code.\n",
    "- Begin by printing \"Hello World\". It's a common starting point in most programming languages.\n",
    "-->"
   ]
  },
  {
   "cell_type": "code",
   "execution_count": 3,
   "id": "f2ae479f-8ba1-47e5-8040-c5c4d099e278",
   "metadata": {
    "collapsed": true,
    "jupyter": {
     "outputs_hidden": true
    }
   },
   "outputs": [
    {
     "name": "stdout",
     "output_type": "stream",
     "text": [
      "This verssion of python programming is: 3.9.18 (main, Sep 11 2023, 08:25:10) \n",
      "[Clang 14.0.6 ]\n"
     ]
    }
   ],
   "source": [
    "# verify your python version\n",
    "import sys\n",
    "print (f\"This verssion of python programming is: {sys.version}\")\n"
   ]
  },
  {
   "cell_type": "code",
   "execution_count": 7,
   "id": "953f9290-b649-446b-85f9-ed1e201400a1",
   "metadata": {
    "collapsed": true,
    "jupyter": {
     "outputs_hidden": true
    }
   },
   "outputs": [
    {
     "name": "stdout",
     "output_type": "stream",
     "text": [
      "Hello World\n"
     ]
    }
   ],
   "source": [
    "# Print your \"Hello world\"\n",
    "print(\"Hello World\")"
   ]
  },
  {
   "cell_type": "markdown",
   "id": "76344827-e75b-467b-9746-7cd2fa0c87e9",
   "metadata": {},
   "source": [
    "## 2. Mindfull of python syntax errors\n",
    "*  Python, unlike compiled languages like Java or Scala, is an interpreted language. It does not provide error warnings before execution. The script is interpreted line by line and halts if an error occurs.\n",
    "*  Be mindful of syntax errors, such as incorrect indentation, when writing Python code.\n",
    "\n",
    "Check the following codes\n",
    "``` python\n",
    "Print(\"this will cause error\") # p should be small \n",
    "# indentation error\n",
    "if 5 > 2:\n",
    "print(\"Five is greater than two!\") # print should be indented by a tab\n",
    "```\n"
   ]
  },
  {
   "cell_type": "markdown",
   "id": "84ed73b7-c1d8-495c-b694-7badab857067",
   "metadata": {},
   "source": [
    "## 3. Python Data Types\n",
    "The common data types in python include (text type(string), numeric type(int, float and complex), boolen type(bool) and binary types (bytes)"
   ]
  },
  {
   "cell_type": "code",
   "execution_count": 13,
   "id": "15c96b50-6ffc-47a7-8500-ec768a4906e7",
   "metadata": {
    "collapsed": true,
    "jupyter": {
     "outputs_hidden": true
    }
   },
   "outputs": [],
   "source": [
    "a = \"Hello world\" \n",
    "b = 15 # integer\n",
    "c = 4.5 #float - number with decimal points\n",
    "d = 2 + 1j #complex number\n",
    "e = False # Boolen\n",
    "f = b\"python\" # bytes"
   ]
  },
  {
   "cell_type": "markdown",
   "id": "6c8c6607-afe4-44dc-a572-63b206b16b1a",
   "metadata": {},
   "source": [
    "### Check data types"
   ]
  },
  {
   "cell_type": "code",
   "execution_count": 14,
   "id": "a91fe1a5-932e-41bc-91b2-e57eb4fb0787",
   "metadata": {
    "collapsed": true,
    "jupyter": {
     "outputs_hidden": true
    }
   },
   "outputs": [
    {
     "name": "stdout",
     "output_type": "stream",
     "text": [
      "data type of a is <class 'str'>\n",
      "data type of a is <class 'int'>\n",
      "data type of a is <class 'float'>\n",
      "data type of a is <class 'complex'>\n",
      "data type of a is <class 'bool'>\n",
      "data type of a is <class 'bytes'>\n"
     ]
    }
   ],
   "source": [
    "# use type() built in function to know data types\n",
    "print(f\"data type of a is {type(a)}\")\n",
    "print(f\"data type of b is {type(b)}\")\n",
    "print(f\"data type of c is {type(c)}\")\n",
    "print(f\"data type of d is {type(d)}\")\n",
    "print(f\"data type of e is {type(e)}\")\n",
    "print(f\"data type of f is {type(f)}\")"
   ]
  },
  {
   "cell_type": "markdown",
   "id": "3c35cb65-d2b8-4b19-9f12-7a32b8e3067a",
   "metadata": {},
   "source": [
    "### Type Casting\n",
    "Python, a dynamically typed language, usually infers data types. However, specific data types can be enforced when necessary using constructor functions like int(), float(), str(), etc. These are useful for ensuring variables are treated as a specific data type, such as converting an integer to a float or vice versa."
   ]
  },
  {
   "cell_type": "code",
   "execution_count": 15,
   "id": "2b4dccd1-9d4a-47b4-8f51-bfddb4b5f276",
   "metadata": {
    "collapsed": true,
    "jupyter": {
     "outputs_hidden": true
    }
   },
   "outputs": [
    {
     "name": "stdout",
     "output_type": "stream",
     "text": [
      "data type of int_string is <class 'str'>\n",
      "data type of string_int is <class 'int'>\n",
      "data type of string_float is <class 'float'>\n",
      "data type of boolen_int is <class 'int'>\n",
      "data type of int_boolen is <class 'bool'>\n"
     ]
    }
   ],
   "source": [
    "# Convert an integer to string \n",
    "int_string = str(12345) # change the int datatype into string type\n",
    "string_int = int(\"123\") # \"123\" was string but changed to string\n",
    "string_float = float(\"12.8\") # convert string \"12.8\" to float\n",
    "boolen_int = int(True) # it change from boolen True to 1\n",
    "int_boolen = bool(0) # convert int  0 to boolen False\n",
    "\n",
    "#check the output\n",
    "print(f\"data type of int_string is {type(int_string)}\")\n",
    "print(f\"data type of string_int is {type(string_int)}\")\n",
    "print(f\"data type of string_float is {type(string_float)}\")\n",
    "print(f\"data type of boolen_int is {type(boolen_int)}\")\n",
    "print(f\"data type of int_boolen is {type(int_boolen)}\")\n"
   ]
  },
  {
   "cell_type": "markdown",
   "id": "972c4af4-088c-430d-a51d-49dfce0e9b53",
   "metadata": {},
   "source": [
    "## 4. Variables\n",
    "Variables are containers for storing data values.\n",
    "\n",
    "Double-click **here** for summary of python variables.\n",
    "<!-- :\n",
    "1. **Dynamic Typing**: Python infers the data type from the assigned value, no explicit declaration is needed.\n",
    "2. **Naming Rules**:\n",
    "    - Start with a letter or underscore, can include numbers.\n",
    "    - Case-sensitive (**`myVar`** and **`myvar`** are different).\n",
    "    - No Python keywords as names.\n",
    "3. **Assignment**: Use the **`=`** operator, assign any data type.\n",
    "4. **Reassignment**: Variables can take new values of any type.\n",
    "5. **Scope**:\n",
    "    - Variables are accessible within their defined scope.\n",
    "    - Function-defined (local) or outside (global).\n",
    "6. **Immutable vs. Mutable**: Some data types are unchangeable (immutable) after creation, and others can be modified (mutable).\n",
    "7. **Deleting**: Use the **`del`** keyword to remove a variable from memory.\n",
    "-->"
   ]
  },
  {
   "cell_type": "code",
   "execution_count": 23,
   "id": "43fb0021-6448-48f8-9f73-8916e1ec44ca",
   "metadata": {
    "collapsed": true,
    "jupyter": {
     "outputs_hidden": true
    }
   },
   "outputs": [
    {
     "name": "stdout",
     "output_type": "stream",
     "text": [
      "10 Dave\n",
      "After reassignment:  20 John\n",
      "Guido van Rossum\n"
     ]
    }
   ],
   "source": [
    "# variable assigment\n",
    "x = 10\n",
    "name = \"Dave\"\n",
    "print(x, name)\n",
    "\n",
    "#Variable reassignment\n",
    "x = 20\n",
    "name = \"John\"\n",
    "print(\"After reassignment: \" , x, name)\n",
    "\n",
    "# multiple varaible assigment\n",
    "f_name, m_name, l_name = \"Guido\", \"van\", \"Rossum\" #He is creater of python pl\n",
    "print(f_name,m_name, l_name)\n"
   ]
  },
  {
   "cell_type": "markdown",
   "id": "29f4285f-6ae1-47b0-a5d4-311b0649c9f1",
   "metadata": {},
   "source": [
    "## 5. Expression\n",
    "Python expressions is crucial for writing efficient and readable code as they represent complex computations and operations. They are combinations of `literals`(constants such as strings or integer), `variables`, `operators`(Symbols that perform operations on operands, and `function calls` that produce a value.\n",
    "\n",
    "* Example includes\n",
    "    * python operator expressions (Arithmetic, comparison, Assignment, logical, identity, membership)\n",
    "    * String expressions \n",
    "    * Boolean expressions\n"
   ]
  },
  {
   "cell_type": "markdown",
   "id": "396b3c33-f7af-4994-9db8-9cf8dbe346bc",
   "metadata": {},
   "source": [
    "### Operoters expressions"
   ]
  },
  {
   "cell_type": "code",
   "execution_count": 25,
   "id": "718129ae-b0cd-4ebc-a4f4-cf41c1322e4e",
   "metadata": {
    "collapsed": true,
    "jupyter": {
     "outputs_hidden": true
    }
   },
   "outputs": [
    {
     "name": "stdout",
     "output_type": "stream",
     "text": [
      "Addition --> a + b = 16\n",
      "Substraction --> a-b = 4\n",
      "Division --> a/b = 1.6666666666666667\n",
      "Multiplication --> a*b = 60\n",
      "Exponentiation --> a**b = 1000000\n",
      "Modulos --> a%b = 4\n",
      "floor_division --> a//b = 1\n"
     ]
    }
   ],
   "source": [
    "# Arithmetic operators-perform mathmatical operation\n",
    "a = 10\n",
    "b = 6\n",
    "print(f\"Addition --> a + b = {a + b}\")\n",
    "print(f\"Substraction --> a-b = {a-b}\")\n",
    "print(f\"Division --> a/b = {a/b}\")\n",
    "print(f\"Multiplication --> a*b = {a*b}\")\n",
    "print(f\"Exponentiation --> a**b = {a**b}\")\n",
    "print(f\"Modulos --> a%b = {a%b}\")\n",
    "print(f\"floor_division --> a//b = {a//b}\") # compare it default division\n",
    "\n",
    "# to add other math operation -leverage math function\n",
    "import math\n",
    "print(f\"Sine of π/2 degrees = {math.sin(math.pi/2)}\")"
   ]
  },
  {
   "cell_type": "code",
   "execution_count": 34,
   "id": "1a29b01a-2f03-4a79-8fee-8b996c6ebbbc",
   "metadata": {
    "collapsed": true,
    "jupyter": {
     "outputs_hidden": true
    }
   },
   "outputs": [
    {
     "name": "stdout",
     "output_type": "stream",
     "text": [
      "Equal --> a == b is False\n",
      "Not equal --> a != b True\n",
      "Less than --> a < b False\n",
      "Greater than --> a > b True\n",
      "Less than or equal --> a <= b False\n",
      "Greater than or equal to --> a >= b True\n"
     ]
    }
   ],
   "source": [
    "# Comparision Operators -compares two values - the output will either True or False\n",
    "a = 10; b = 6 \n",
    "print(f\"Equal --> a == b is {a == b}\")\n",
    "print(f\"Not equal --> a != b {a != b}\")\n",
    "print(f\"Less than --> a < b {a < b}\")\n",
    "print(f\"Greater than --> a > b {a > b}\")\n",
    "print(f\"Less than or equal --> a <= b {a <= b}\")\n",
    "print(f\"Greater than or equal to --> a >= b {a >= b}\")"
   ]
  },
  {
   "cell_type": "code",
   "execution_count": null,
   "id": "e32e156e-4240-40e3-bde2-c9a85a1feefb",
   "metadata": {
    "collapsed": true,
    "jupyter": {
     "outputs_hidden": true
    }
   },
   "outputs": [],
   "source": [
    "#Assignment Operator- assign value to a variable\n",
    "x = 10 # assign 10 to x\n",
    "x = x + 10 # assign the value of previous x plus 10 to a new x \n",
    "x += 10 # is the same as x = x + 10, \n",
    "y **= 2 # equivelent to  y  = y**2 \n",
    "# it works will all arithmetic operators /=, %=, //=, *="
   ]
  },
  {
   "cell_type": "code",
   "execution_count": 47,
   "id": "3930e356-42c7-4e4c-a9c9-99c0025a501d",
   "metadata": {
    "collapsed": true,
    "jupyter": {
     "outputs_hidden": true
    }
   },
   "outputs": [
    {
     "name": "stdout",
     "output_type": "stream",
     "text": [
      " True and True: True\n",
      " True and False: False\n",
      " True or True: True\n",
      " True or False: True\n",
      " False and False: False\n",
      " False OR  False: False\n"
     ]
    }
   ],
   "source": [
    "# Logical Operator-used to combine conditional statements.\n",
    "#return true if both condition are True or else return False.\n",
    "x = 5; y = 2\n",
    "print(f\" True and True: {x > y and y < x}\")\n",
    "print(f\" True and False: {x>y and y > x}\")\n",
    "print(f\" True or True: {x > y or y < x}\")\n",
    "print(f\" True or False: {x > y or y > x}\")\n",
    "print(f\" False and False: {x < y and y > x}\")\n",
    "# `not` return opposite condition\n",
    "print(f\" not True {not (x>y)}\")"
   ]
  },
  {
   "cell_type": "code",
   "execution_count": 57,
   "id": "fbae9e9a-a425-42dc-85a8-5d0da3a750fe",
   "metadata": {
    "collapsed": true,
    "jupyter": {
     "outputs_hidden": true
    }
   },
   "outputs": [
    {
     "name": "stdout",
     "output_type": "stream",
     "text": [
      "There is n in a sring john: True\n",
      "There is 3 in number list: True\n",
      "There is h in string name: False\n"
     ]
    }
   ],
   "source": [
    "# Membership operator(in and not in) are used to test whether a value or variable is found within a sequence.\n",
    "name = \"John\" # string\n",
    "number  = [1, 2, 3, 4, 5] # list primitive data structure-will be discussed later\n",
    "print(f\"There is n in a sring john: {'n' in name}\")\n",
    "print(f\"There is 3 in number list: {3 in number}\")\n",
    "print(f\"There is h in string name: {'h' not in name}\")"
   ]
  },
  {
   "cell_type": "code",
   "execution_count": 61,
   "id": "dd5b6ebe-42d6-4d32-8e58-94245ce13770",
   "metadata": {},
   "outputs": [
    {
     "name": "stdout",
     "output_type": "stream",
     "text": [
      "name1 is name2: True\n",
      "name1 is name3: True\n"
     ]
    }
   ],
   "source": [
    "# Identity operator-  compare the memory locations of two objects to determine if they are the same object or not\n",
    "name1 = \"John\"\n",
    "name2 = \"John\"\n",
    "name3 = name1\n",
    "print(f\"name1 is name2: {name1 is name2}\") # output is false because nam1 and name2 memory location is different\n",
    "print(f\"name1 is name3: {name1 is name3}\") # output is true because nam1 and name3 refer to the same memory location"
   ]
  },
  {
   "cell_type": "markdown",
   "id": "f6ea54a7-1de9-4203-b077-cd1361efcffc",
   "metadata": {},
   "source": [
    "### String Expressions\n",
    "Operations that manipulate and work with strings"
   ]
  },
  {
   "cell_type": "code",
   "execution_count": 66,
   "id": "8c2ed251-7b8e-475d-a8d7-7b9f55d65998",
   "metadata": {},
   "outputs": [
    {
     "name": "stdout",
     "output_type": "stream",
     "text": [
      "Full Name:  John D. Doe, \n",
      "full_name three times: John D. Doe, John D. Doe, John D. Doe, \n"
     ]
    }
   ],
   "source": [
    "#Concatination--Joining two or more string characters\n",
    "f_name = \"John\"\n",
    "m_name = \"D.\"\n",
    "l_name = \"Doe, \"\n",
    "full_name = f_name + \" \" + m_name + \" \"+ l_name\n",
    "print(\"Full Name: \", full_name)\n",
    "\n",
    "# Repetition -- use * to repeat as many as you want\n",
    "print(f\"full_name three times: {full_name * 3}\")"
   ]
  },
  {
   "cell_type": "code",
   "execution_count": 81,
   "id": "fc5bb29d-1516-4b1b-8e83-a37d2d8fa2fa",
   "metadata": {},
   "outputs": [
    {
     "name": "stdout",
     "output_type": "stream",
     "text": [
      "first character is: J\n",
      "second character is: o\n",
      "last character is : n\n",
      "first Word: Good\n",
      "Last word:  Morning\n"
     ]
    }
   ],
   "source": [
    "# Indexing--Accessing individual characters within a string using square brackets [].\n",
    "f_name = \"John\"\n",
    "print(f\"first character is: {f_name[0]}\")\n",
    "print(f\"second character is: {f_name[1]}\")\n",
    "print(f\"last character is : {f_name[-1]}\") #negative indexing\n",
    "\n",
    "# Slicing--Extracting a portion of a string using the syntax [start:end:step].\n",
    "x = \"Good Morning\"\n",
    "print(f\"first Word: {x[0:4]}\") # O:4 index includes 0 index but exclude 4 index\n",
    "print(f\"Last word: {x[-8:12]}\") # mixed, negative and positive indexing"
   ]
  },
  {
   "cell_type": "code",
   "execution_count": null,
   "id": "115a86c3-52ef-4a9b-a004-849b0eefdfcb",
   "metadata": {},
   "outputs": [],
   "source": [
    "# Formatting: Building strings with variables or expressions using % or str.format() or "
   ]
  }
 ],
 "metadata": {
  "kernelspec": {
   "display_name": "Python 3",
   "language": "python",
   "name": "python3"
  },
  "language_info": {
   "codemirror_mode": {
    "name": "ipython",
    "version": 3
   },
   "file_extension": ".py",
   "mimetype": "text/x-python",
   "name": "python",
   "nbconvert_exporter": "python",
   "pygments_lexer": "ipython3",
   "version": "3.9.18"
  }
 },
 "nbformat": 4,
 "nbformat_minor": 5
}
