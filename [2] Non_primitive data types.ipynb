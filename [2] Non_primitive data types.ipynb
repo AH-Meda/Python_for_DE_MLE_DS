{
 "cells": [
  {
   "cell_type": "markdown",
   "id": "b12c4268-8a47-4428-89ae-15a4f8764770",
   "metadata": {},
   "source": [
    "## 1. LIST\n",
    "`List`  is a sequenced collection of different objects such as integers, strings, and even other lists as well. They are mutable, and allows duplicate, we change them. The address of each element within a list is called an index. An index is used to access and refer to items within a list."
   ]
  },
  {
   "cell_type": "code",
   "execution_count": 44,
   "id": "36d3f961-9473-43ba-95e2-9ce3eb1848f1",
   "metadata": {},
   "outputs": [
    {
     "name": "stdout",
     "output_type": "stream",
     "text": [
      "Using Positive indexing: Michael --.Using negative indexing: Michael\n",
      "Using Positive indexing: 10.1 -->Using negative indexing: 10.1\n",
      "Using Positive indexing: 1982 -->Using negative indexing: Michael\n",
      "after defasult split:  ['Python,Java,', 'Scala,', 'Rust,', 'Javascript']\n",
      "after comma split:  ['Python', ' Java', ' Scala', ' Rust', ' Javascript']\n"
     ]
    }
   ],
   "source": [
    "# create a list \n",
    "L = [\"Michael\", 10.1, 1982]\n",
    "\n",
    "#Accessing the elements on each index (use positive and negative index)\n",
    "print('Using Positive indexing:',L[0], '--.Using negative indexing:' , L[-3])\n",
    "print('Using Positive indexing:',L[1], '-->Using negative indexing:' , L[-2] )\n",
    "print('Using Positive indexing:',L[2], '-->Using negative indexing:' , L[-3] )\n",
    "\n",
    "# 2. Make a list by splitting string--List don't have split method but the output of spring split is list\n",
    "a= \"Python,Java, Scala, Rust, Javascript\".split()  # dafualt split - splits by space, notice space b/java and python\n",
    "print(\"after defasult split: \", a)\n",
    "b = \"Python, Java, Scala, Rust, Javascript\".split(\",\") # comma based split\n",
    "print(\"after comma split: \", b)\n"
   ]
  },
  {
   "cell_type": "markdown",
   "id": "dbf2a15c-24c5-415b-98a7-ca13d89eb5cc",
   "metadata": {},
   "source": [
    "`We can nest other lists, and we can also nest tuples and other data structures. The same indexing conventions apply for nesting`"
   ]
  },
  {
   "cell_type": "code",
   "execution_count": 25,
   "id": "bf30eb5a-f2e2-4b28-bf92-8346e818b4ac",
   "metadata": {},
   "outputs": [
    {
     "name": "stdout",
     "output_type": "stream",
     "text": [
      "Using Positive indexing: Michael Jackson --.Using negative indexing: 1982\n",
      "Using Positive indexing: 10.1 -->Using negative indexing: [1, 2]\n",
      "Using Positive indexing: 1982 -->Using negative indexing: 1982\n",
      "-------------------------\n",
      "L after change:  ['Michael Jackson', 10.1, 1982, [1, 2], [('B', -2)]]\n"
     ]
    }
   ],
   "source": [
    "#  We can nest other lists, and we can also nest tuples and other data structure, \n",
    "L = [\"Michael Jackson\", 10.1, 1982, [1, 2], (\"A\", 1)]\n",
    "print('Using Positive indexing:',L[0], '--.Using negative indexing:' , L[-3])\n",
    "print('Using Positive indexing:',L[1], '-->Using negative indexing:' , L[-2] )\n",
    "print('Using Positive indexing:',L[2], '-->Using negative indexing:' , L[-3] )\n",
    "\n",
    "#List is mutable you can change them\n",
    "print(\"-------------------------\")\n",
    "L[-1] = [(\"B\", -2)]\n",
    "print(\"L after change: \", L)"
   ]
  },
  {
   "cell_type": "code",
   "execution_count": 19,
   "id": "06aa51fb-1553-4156-93c1-50c68929b1c4",
   "metadata": {},
   "outputs": [
    {
     "name": "stdout",
     "output_type": "stream",
     "text": [
      "First three element:  ['Michael Jackson', 10.1, 1982]\n",
      "Every 2nd element:  ['Michael Jackson', 1982, ('A', 1)]\n",
      "Element from middle:  [10.1, 1982, [1, 2]]\n"
     ]
    }
   ],
   "source": [
    "# 1. Accessing the list Slicing\n",
    "print(\"First three element: \", L[0:3]) \n",
    "print(\"Every 2nd element: \", L[::2])\n",
    "print(\"Element from middle: \", L[1:4])"
   ]
  },
  {
   "cell_type": "markdown",
   "id": "5475da72-0cef-4815-bb4b-edaa81c46d44",
   "metadata": {},
   "source": [
    "### List Methods"
   ]
  },
  {
   "cell_type": "markdown",
   "id": "ddb06fe1-42cb-41d7-9ef6-7455d65c4ceb",
   "metadata": {},
   "source": [
    "`Add items to the list`--> use append() or exten() method or instert()"
   ]
  },
  {
   "cell_type": "code",
   "execution_count": 116,
   "id": "c1bd8267-5249-4521-b3b0-b2a993549651",
   "metadata": {},
   "outputs": [
    {
     "name": "stdout",
     "output_type": "stream",
     "text": [
      "Languages list after append:  ['JavaScript']\n",
      "Languages list after insert1:  ['Python', 'JavaScript']\n",
      "Languages after extend:  ['Python', 'JavaScript', 'Java', 'C++', 'C#', 'Swift', 'Ruby', 'Go', 'PHP', 'Rust']\n"
     ]
    }
   ],
   "source": [
    "Languages = [] #create empty list first\n",
    "# add the following item to the list using different methods \n",
    "#programming_languages = ['Python', 'JavaScript', 'Java', 'C++', 'C#', 'Swift', 'Ruby', 'Go', 'PHP', 'Rust']\"\n",
    "\n",
    "# append() takes a single element and adds it as is, cannot accept morethan one\n",
    "Languages.append ('JavaScript') \n",
    "print(\"Languages list after append: \", Languages)\n",
    "\n",
    "#insert() add element at speficied index\n",
    "Languages.insert(0, \"Python\") # \n",
    "print(\"Languages list after insert1: \", Languages)\n",
    "\n",
    "#(extend() append another list to this one\n",
    "Languages.extend(['Java', 'C++', 'C#', 'Swift', 'Ruby', 'Go', 'PHP', 'Rust']) \n",
    "print(\"Languages after extend: \", Languages)"
   ]
  },
  {
   "cell_type": "markdown",
   "id": "3ef49091-c281-441f-9652-4f4f0b8c152c",
   "metadata": {},
   "source": [
    "`Remove from the list`--> use remove(), del(), pop(), clear() to clear all elements from the list"
   ]
  },
  {
   "cell_type": "code",
   "execution_count": 117,
   "id": "de252cef-3748-408f-8a16-fa2dbd742744",
   "metadata": {},
   "outputs": [
    {
     "name": "stdout",
     "output_type": "stream",
     "text": [
      "Language before remove:  ['Python', 'JavaScript', 'Java', 'C++', 'C#', 'Swift', 'Ruby', 'Go', 'PHP', 'Rust']\n",
      "Languages after remove:  ['Python', 'JavaScript', 'Java', 'C#', 'Swift', 'Ruby', 'Go', 'PHP', 'Rust']\n",
      "Langauges after first pop:  ['Python', 'JavaScript', 'Java', 'C#', 'Swift', 'Ruby', 'Go', 'PHP']\n",
      "Langauges after 2nd pop:  ['Python', 'JavaScript', 'Java', 'Swift', 'Ruby', 'Go', 'PHP']\n",
      "Languages after del:  ['Python', 'JavaScript', 'Java', 'Ruby', 'Go', 'PHP']\n",
      "Languages after insert:  ['Python', 'JavaScript', 'Java', 'C++', 'Swift', 'Ruby', 'Ruby', 'Go', 'PHP', 'Rust']\n",
      "Languages after clear:  []\n",
      "The list is restored:  ['Python', 'JavaScript', 'Java', 'C++', 'C#', 'Swift', 'Ruby', 'Go', 'PHP', 'Rust']\n"
     ]
    }
   ],
   "source": [
    "print(\"Language before remove: \", Languages)\n",
    "Languages.remove(\"C++\")  # remove() removes specific element from the list (index[3] is removed)\n",
    "print(\"Languages after remove: \", Languages)\n",
    "\n",
    "Languages.pop() #removes the last item- remove \"Rust\"\n",
    "print(\"Langauges after first pop: \", Languages)\n",
    "Languages.pop(3) # removed the 3rd item index \n",
    "print(\"Langauges after 2nd pop: \", Languages)\n",
    "\n",
    "del Languages[3] # remove item by index, the same as pop\n",
    "print(\"Languages after del: \", Languages)\n",
    "\n",
    "\n",
    "#insert removed item to back to thier index\n",
    "Languages.insert(3, \"C++\")\n",
    "Languages.insert(4, \"Swift\")\n",
    "Languages.insert(5, \"Ruby\")\n",
    "Languages.append(\"Rust\")\n",
    "print(\"Languages after insert: \", Languages)\n",
    "\n",
    "# clear () remove all the element from the list\n",
    "Languages.clear()\n",
    "print(\"Languages after clear: \", Languages)\n",
    "Languages.extend(['Python', 'JavaScript', 'Java', 'C++', 'C#', 'Swift', 'Ruby', 'Go', 'PHP', 'Rust'])\n",
    "print(\"The list is restored: \", Languages)"
   ]
  },
  {
   "cell_type": "markdown",
   "id": "60ede4fd-26ad-40dc-8add-471e4971f11b",
   "metadata": {},
   "source": [
    "`Sort the list`--> use sort() method"
   ]
  },
  {
   "cell_type": "code",
   "execution_count": 89,
   "id": "7ec3db7c-1d72-4f41-8ccd-0912e6b9376c",
   "metadata": {},
   "outputs": [
    {
     "name": "stdout",
     "output_type": "stream",
     "text": [
      "Languages sorted:  ['C++', 'Go', 'Java', 'JavaScript', 'PHP', 'Python', 'Ruby', 'Ruby', 'Rust', 'Swift']\n",
      "After reverse sort:  ['Swift', 'Rust', 'Ruby', 'Ruby', 'Python', 'PHP', 'JavaScript', 'Java', 'Go', 'C++']\n"
     ]
    }
   ],
   "source": [
    "Languages.sort() #default sorted alphanumerically in asceding order\n",
    "print(\"Languages sorted: \", Languages)\n",
    "\n",
    "Languages.reverse() #Sorted in alphanumerically in reverse order\n",
    "print(\"After reverse sort: \", Languages)\n"
   ]
  },
  {
   "cell_type": "markdown",
   "id": "d106782d-747f-4ef3-a6bd-29e091ff5b64",
   "metadata": {},
   "source": [
    "`Copy the list`--> Setting one variable equal to the other don't make a copy, rather its different refer to the same memory location. change in one will affect the other. Insted use copy()"
   ]
  },
  {
   "cell_type": "code",
   "execution_count": 94,
   "id": "8bda67d0-f351-4b8a-90b2-ca41aa4c9117",
   "metadata": {},
   "outputs": [
    {
     "name": "stdout",
     "output_type": "stream",
     "text": [
      "Copy of the Languages list:  ['C++', 'Go', 'Java', 'JavaScript', 'PHP', 'Python', 'Ruby', 'Ruby', 'Rust', 'Swift']\n",
      "Languages before copy:  ['Swift', 'Rust', 'Ruby', 'Ruby', 'Python', 'PHP', 'JavaScript', 'Java', 'Go', 'C++']\n"
     ]
    }
   ],
   "source": [
    "Languages_Copy = Languages.copy()\n",
    "Languages_Copy.reverse() # just to compare change made\n",
    "print(\"Copy of the Languages list: \", Languages_Copy)\n",
    "print(\"Languages before copy: \", Languages)"
   ]
  },
  {
   "cell_type": "markdown",
   "id": "4c7a66b7-9237-4967-8be4-e7c34a308c88",
   "metadata": {},
   "source": [
    "`Join List`--> use or extend method"
   ]
  },
  {
   "cell_type": "code",
   "execution_count": 96,
   "id": "7fcd595c-77df-4fa5-8e9e-4670df7fb447",
   "metadata": {},
   "outputs": [
    {
     "name": "stdout",
     "output_type": "stream",
     "text": [
      "print languages after join:  ['Swift', 'Rust', 'Ruby', 'Ruby', 'Python', 'PHP', 'JavaScript', 'Java', 'Go', 'C++']\n"
     ]
    }
   ],
   "source": [
    "Languages_group1 = ['Swift', 'Rust', 'Ruby', 'Ruby', 'Python']\n",
    "Languages_group2 =  ['PHP', 'JavaScript', 'Java', 'Go', 'C++']\n",
    "Langauges = Languages_group1 + Languages_group2\n",
    "print(\"print languages after join: \", Languages)"
   ]
  },
  {
   "cell_type": "code",
   "execution_count": null,
   "id": "89c504cd-cbfc-4e7b-9f81-fbcb5ed41b24",
   "metadata": {},
   "outputs": [],
   "source": []
  }
 ],
 "metadata": {
  "kernelspec": {
   "display_name": "Python 3",
   "language": "python",
   "name": "python3"
  },
  "language_info": {
   "codemirror_mode": {
    "name": "ipython",
    "version": 3
   },
   "file_extension": ".py",
   "mimetype": "text/x-python",
   "name": "python",
   "nbconvert_exporter": "python",
   "pygments_lexer": "ipython3",
   "version": "3.9.18"
  }
 },
 "nbformat": 4,
 "nbformat_minor": 5
}
